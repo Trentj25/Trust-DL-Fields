{
 "cells": [
  {
   "cell_type": "markdown",
   "id": "c5cfa4ce",
   "metadata": {},
   "source": [
    "# Relatively Low Trust in Community"
   ]
  },
  {
   "cell_type": "markdown",
   "id": "6a1cae33",
   "metadata": {},
   "source": [
    "Predicting instances where respondent reported high trust in political and health care but low trust/mistrust of their community. \n",
    "\n",
    "\n",
    "\n",
    "\n",
    "Seperate Model for Each Jurisdiction, run automatically\n",
    "\n",
    "EDA, FE, Cleaning and HP tuning seperate\n",
    "\n",
    "Dataset stored locally as per terms"
   ]
  },
  {
   "cell_type": "code",
   "execution_count": 26,
   "id": "e4b731fd",
   "metadata": {},
   "outputs": [],
   "source": [
    "import pandas as pd\n",
    "import numpy as np\n",
    "import warnings\n",
    "warnings.filterwarnings('ignore')\n",
    "%matplotlib inline \n",
    "from catboost import *\n",
    "import matplotlib.pyplot as plt\n",
    "from sklearn import metrics\n",
    "from sklearn.metrics import confusion_matrix, accuracy_score\n",
    "from sklearn.model_selection import train_test_split\n",
    "# import shap\n",
    "from time import time\n",
    "import plotly.express as px\n",
    "import seaborn as sns\n",
    "\n",
    "from sklearn.impute import SimpleImputer\n",
    "from sklearn.compose import ColumnTransformer\n",
    "from sklearn.preprocessing import OneHotEncoder\n",
    "from sklearn.linear_model import LinearRegression\n",
    "from sklearn.preprocessing import StandardScaler\n",
    "from ydata_profiling import ProfileReport\n",
    "from sklearn.preprocessing import MinMaxScaler\n",
    "\n",
    "pd.set_option('display.max_columns', None)"
   ]
  },
  {
   "cell_type": "markdown",
   "id": "2b2f3d5c",
   "metadata": {},
   "source": [
    "Import Reformatted Dataset, remove trust from X"
   ]
  },
  {
   "cell_type": "code",
   "execution_count": 27,
   "id": "9a122162",
   "metadata": {},
   "outputs": [],
   "source": [
    "RawData = pd.read_excel('Reformated.xlsx')"
   ]
  },
  {
   "cell_type": "code",
   "execution_count": 31,
   "id": "0d2bfa5e",
   "metadata": {},
   "outputs": [],
   "source": [
    "df3 = RawData[['country','age', 'ua', 'os', 'device', 'region', 'gender',\n",
    "       'wave', 'q00a_select_language', 'q07_live_area',\n",
    "       'q08_primary_covid_info_source', 'q09_education_completed', 'y5_COMMLwrTrust']]"
   ]
  },
  {
   "cell_type": "code",
   "execution_count": 29,
   "id": "389d4c38",
   "metadata": {},
   "outputs": [],
   "source": [
    "# df3['country'].unique()"
   ]
  },
  {
   "cell_type": "code",
   "execution_count": 32,
   "id": "0d69a4ab",
   "metadata": {},
   "outputs": [],
   "source": [
    "# Store / Initiate \n",
    "models = {}\n",
    "feature_importances = {}\n",
    "accuracy_scores = {}\n",
    "\n",
    "COMM_df = None\n",
    "\n",
    "#Set categorical columns\n",
    "categorical_features_indices = [1, 2, 3, 4, 5, 6, 7, 8, 9, 10]\n",
    "\n",
    "\n",
    "# Split the data by country and run a model for each country\n",
    "for country in df3['country'].unique():\n",
    "    country_data = df3[df3['country'] == country]\n",
    "    \n",
    "   #GROUP RARE INSTANCES \n",
    "    counts = country_data['ua'].value_counts()\n",
    "    infrequent_categories = counts[counts < 100].index   \n",
    "    country_data['ua'] = country_data['ua'].replace(infrequent_categories, 'other')\n",
    "\n",
    "    counts = country_data['os'].value_counts()\n",
    "    infrequent_categories = counts[counts < 100].index   \n",
    "    country_data['os'] = country_data['os'].replace(infrequent_categories, 'other')\n",
    "\n",
    "    counts = country_data['device'].value_counts()\n",
    "    infrequent_categories = counts[counts < 200].index   \n",
    "    country_data['device'] = country_data['device'].replace(infrequent_categories, 'other')\n",
    "\n",
    "    counts = country_data['region'].value_counts()\n",
    "    infrequent_categories = counts[counts < 50].index   \n",
    "    country_data['region'] = country_data['region'].replace(infrequent_categories, 'other')\n",
    "    \n",
    "    # Features and Target\n",
    "    X = country_data[['age', 'ua', 'os', 'device', 'region', 'gender',\n",
    "       'wave', 'q00a_select_language', 'q07_live_area',\n",
    "       'q08_primary_covid_info_source', 'q09_education_completed']]\n",
    "    \n",
    "    y = country_data['y5_COMMLwrTrust']\n",
    "    \n",
    "        \n",
    "    #Split\n",
    "    X_train, X_test, y_train, y_test = train_test_split(X, y, test_size=0.25, random_state=25)\n",
    "    \n",
    "    # Train a CatBoost classifier\n",
    "    cbc = CatBoostClassifier(iterations = 500, verbose=0)  \n",
    "    cbc.fit(X_train, y_train, cat_features= categorical_features_indices)\n",
    "    \n",
    "    # Store the model\n",
    "    models[country] = cbc\n",
    "    \n",
    "    # Get feature importance and store in a DataFrame\n",
    "    importance_df = pd.DataFrame({\n",
    "        'Feature': X.columns,\n",
    "        country: cbc.get_feature_importance()\n",
    "    })\n",
    "    \n",
    "    # Merge importance dataframes\n",
    "    if COMM_df is None:\n",
    "        COMM_df = importance_df\n",
    "    else:\n",
    "        COMM_df = COMM_df.merge(importance_df, on='Feature')\n",
    "    \n",
    "    # Predict the Pass column COMM_dffor the test set and compute accuracy\n",
    "    y_pred = cbc.predict(X_test)\n",
    "    accuracy = accuracy_score(y_test, y_pred)\n",
    "    accuracy_scores[country] = accuracy"
   ]
  },
  {
   "cell_type": "code",
   "execution_count": 35,
   "id": "53c635bd",
   "metadata": {},
   "outputs": [],
   "source": [
    "# Print out the merged feature importances dataframe\n",
    "# print(COMM_df)"
   ]
  },
  {
   "cell_type": "code",
   "execution_count": null,
   "id": "dbd61e87",
   "metadata": {},
   "outputs": [],
   "source": [
    "# print(\"\\nAccuracy:\")\n",
    "# for country, score in accuracy_scores.items():\n",
    "#     print(f\"{country}: {score:.2f}\")"
   ]
  },
  {
   "cell_type": "code",
   "execution_count": 36,
   "id": "3e4f561d",
   "metadata": {},
   "outputs": [],
   "source": [
    "# COMM_df.to_pickle(\"COMM\")"
   ]
  },
  {
   "cell_type": "code",
   "execution_count": null,
   "id": "2888b2e2",
   "metadata": {},
   "outputs": [],
   "source": []
  }
 ],
 "metadata": {
  "kernelspec": {
   "display_name": "Python 3 (ipykernel)",
   "language": "python",
   "name": "python3"
  },
  "language_info": {
   "codemirror_mode": {
    "name": "ipython",
    "version": 3
   },
   "file_extension": ".py",
   "mimetype": "text/x-python",
   "name": "python",
   "nbconvert_exporter": "python",
   "pygments_lexer": "ipython3",
   "version": "3.9.13"
  },
  "toc": {
   "base_numbering": 1,
   "nav_menu": {
    "height": "136px",
    "width": "355px"
   },
   "number_sections": true,
   "sideBar": true,
   "skip_h1_title": false,
   "title_cell": "Table of Contents",
   "title_sidebar": "Contents",
   "toc_cell": false,
   "toc_position": {},
   "toc_section_display": true,
   "toc_window_display": false
  }
 },
 "nbformat": 4,
 "nbformat_minor": 5
}
